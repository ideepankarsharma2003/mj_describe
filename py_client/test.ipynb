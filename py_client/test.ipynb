{
 "cells": [
  {
   "cell_type": "code",
   "execution_count": 1,
   "metadata": {},
   "outputs": [],
   "source": [
    "import requests"
   ]
  },
  {
   "cell_type": "code",
   "execution_count": 2,
   "metadata": {},
   "outputs": [],
   "source": [
    "url= \"http://3.94.168.100:3000/describe-image\"\n",
    "url= \"http://3.94.168.100:3000/generate-image\""
   ]
  },
  {
   "cell_type": "code",
   "execution_count": 8,
   "metadata": {},
   "outputs": [
    {
     "data": {
      "text/plain": [
       "<Response [200]>"
      ]
     },
     "execution_count": 8,
     "metadata": {},
     "output_type": "execute_result"
    }
   ],
   "source": [
    "response= requests.post(\n",
    "    url=url,\n",
    "    json={\n",
    "        # \"imageUrl\": \"https://pingenerator.com/static/media/5662a7dd70e5af9f5a4bfdc38052ff75.webp\",\n",
    "        \"imagePrompt\": \"A cat with furry mouse\"\n",
    "    }\n",
    ")\n",
    "response"
   ]
  },
  {
   "cell_type": "code",
   "execution_count": 7,
   "metadata": {},
   "outputs": [],
   "source": [
    "import json\n"
   ]
  },
  {
   "cell_type": "code",
   "execution_count": 9,
   "metadata": {},
   "outputs": [
    {
     "data": {
      "text/plain": [
       "{'id': '1245702175154503758',\n",
       " 'flags': 0,\n",
       " 'content': '**A cat with furry mouse --v 6.0** - <@761686110295949332> (relaxed, stealth)',\n",
       " 'hash': '9ffd951d-339d-4f33-bd5e-7e2ed7072bfa',\n",
       " 'progress': 'done',\n",
       " 'uri': 'https://cdn.discordapp.com/attachments/1094892992281718894/1245702174516707428/muskan9031_A_cat_with_furry_mouse_9ffd951d-339d-4f33-bd5e-7e2ed7072bfa.png?ex=6659b60e&is=6658648e&hm=f341ad926c0f43c919466c7b94da650b7fc2925f6c03690ced815796fda30ad3&',\n",
       " 'proxy_url': 'https://media.discordapp.net/attachments/1094892992281718894/1245702174516707428/muskan9031_A_cat_with_furry_mouse_9ffd951d-339d-4f33-bd5e-7e2ed7072bfa.png?ex=6659b60e&is=6658648e&hm=f341ad926c0f43c919466c7b94da650b7fc2925f6c03690ced815796fda30ad3&',\n",
       " 'options': [{'type': 2,\n",
       "   'style': 2,\n",
       "   'label': 'U1',\n",
       "   'custom': 'MJ::JOB::upsample::1::9ffd951d-339d-4f33-bd5e-7e2ed7072bfa'},\n",
       "  {'type': 2,\n",
       "   'style': 2,\n",
       "   'label': 'U2',\n",
       "   'custom': 'MJ::JOB::upsample::2::9ffd951d-339d-4f33-bd5e-7e2ed7072bfa'},\n",
       "  {'type': 2,\n",
       "   'style': 2,\n",
       "   'label': 'U3',\n",
       "   'custom': 'MJ::JOB::upsample::3::9ffd951d-339d-4f33-bd5e-7e2ed7072bfa'},\n",
       "  {'type': 2,\n",
       "   'style': 2,\n",
       "   'label': 'U4',\n",
       "   'custom': 'MJ::JOB::upsample::4::9ffd951d-339d-4f33-bd5e-7e2ed7072bfa'},\n",
       "  {'type': 2,\n",
       "   'style': 2,\n",
       "   'label': '🔄',\n",
       "   'custom': 'MJ::JOB::reroll::0::9ffd951d-339d-4f33-bd5e-7e2ed7072bfa::SOLO'},\n",
       "  {'type': 2,\n",
       "   'style': 2,\n",
       "   'label': 'V1',\n",
       "   'custom': 'MJ::JOB::variation::1::9ffd951d-339d-4f33-bd5e-7e2ed7072bfa'},\n",
       "  {'type': 2,\n",
       "   'style': 2,\n",
       "   'label': 'V2',\n",
       "   'custom': 'MJ::JOB::variation::2::9ffd951d-339d-4f33-bd5e-7e2ed7072bfa'},\n",
       "  {'type': 2,\n",
       "   'style': 2,\n",
       "   'label': 'V3',\n",
       "   'custom': 'MJ::JOB::variation::3::9ffd951d-339d-4f33-bd5e-7e2ed7072bfa'},\n",
       "  {'type': 2,\n",
       "   'style': 2,\n",
       "   'label': 'V4',\n",
       "   'custom': 'MJ::JOB::variation::4::9ffd951d-339d-4f33-bd5e-7e2ed7072bfa'}],\n",
       " 'width': 2048,\n",
       " 'height': 2048}"
      ]
     },
     "execution_count": 9,
     "metadata": {},
     "output_type": "execute_result"
    }
   ],
   "source": [
    "jsn= json.loads(\n",
    "    response.content.decode()\n",
    "    \n",
    ")\n",
    "jsn"
   ]
  },
  {
   "cell_type": "code",
   "execution_count": 20,
   "metadata": {},
   "outputs": [
    {
     "data": {
      "text/plain": [
       "dict"
      ]
     },
     "execution_count": 20,
     "metadata": {},
     "output_type": "execute_result"
    }
   ],
   "source": [
    "type(jsn)"
   ]
  },
  {
   "cell_type": "code",
   "execution_count": 21,
   "metadata": {},
   "outputs": [
    {
     "data": {
      "text/plain": [
       "['1️⃣ A grid of Instagram story template with 9 different colorful and simple design elements, each containing the text \"Your title here\", with the theme of travel and adventure. The elements include travel photos, a surfboard, a beach, a mountain view, a car road trip, and people on vacation in Italy or Spain. It has a white background with a vector art style and flat colors in a high resolution social media mockup template. The elements are in the style of travel and adventure photography. --ar 23:32',\n",
       " '2️⃣ A template for Instagram story with pastel colors and a travel theme. The text \"Your title here\" appears with images of beaches or surfing in the background. There are 3 different layout options presented in the style of different artists. --ar 23:32',\n",
       " '3️⃣ A grid of Instagram story template images for travel and holiday themes, with a color scheme that includes pastel pinks, blues, greens, yellows, oranges, whites, and black tones. The text \"Your title\" is written in white on each picture, the text \"Your website.\" appears at the bottom right corner of one photograph. Each element contains photos or illustrations related to summer beachwear, surfboards, yachts, mountains, clouds, people traveling in the style of by car or airplane, coastal scenes, street food stalls, colorful market squares. --ar 23:32',\n",
       " '4️⃣ A template for an Instagram story grid with six images, each featuring travel and adventure themes in bright colors like blue or pink. The first two squares show people on vacation at the beach or lake side. In between these two square photos is another small photo of someone surfing. There is also one large rectangular space displaying text that says \"Your website\" and below it more text saying \"nineteenth century\", adding to its modern feel. The images have a flat design vector illustration style in the style of nineteenth century art. --ar 23:32']"
      ]
     },
     "execution_count": 21,
     "metadata": {},
     "output_type": "execute_result"
    }
   ],
   "source": [
    "jsn['description']['descriptions']"
   ]
  },
  {
   "cell_type": "code",
   "execution_count": null,
   "metadata": {},
   "outputs": [],
   "source": []
  }
 ],
 "metadata": {
  "kernelspec": {
   "display_name": "Python 3",
   "language": "python",
   "name": "python3"
  },
  "language_info": {
   "codemirror_mode": {
    "name": "ipython",
    "version": 3
   },
   "file_extension": ".py",
   "mimetype": "text/x-python",
   "name": "python",
   "nbconvert_exporter": "python",
   "pygments_lexer": "ipython3",
   "version": "3.12.2"
  }
 },
 "nbformat": 4,
 "nbformat_minor": 2
}
